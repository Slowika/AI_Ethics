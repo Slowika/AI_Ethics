{
 "cells": [
  {
   "cell_type": "markdown",
   "metadata": {},
   "source": [
    "## How to use this program\n",
    "\n",
    "To run the program, you will need to:\n",
    "\n",
    "1. Download 'wiki-news-300d-1M.vec.zip' and 'wiki-news-300d-1M-subword.vec.zip' from https://fasttext.cc/docs/en/english-vectors.html\n",
    "2. Put both files in a subfolder titled 'wiki-en'\n",
    "3. Install *gensim* to your virtual environment 'pip install gensim' if has not already been installed\n",
    "4. Make sure that you have the 'test.py' file in the same directory as this notebook\n",
    "5. Run the first cell (this will take a while because the vec files are big)\n",
    "\n",
    "See 'ft_test_1.ipynb' for usage examples"
   ]
  },
  {
   "cell_type": "code",
   "execution_count": null,
   "metadata": {},
   "outputs": [],
   "source": [
    "import test"
   ]
  },
  {
   "cell_type": "markdown",
   "metadata": {},
   "source": [
    "### Functions\n",
    "\n",
    "test.**plot_TSNE**(*word, limit=200, model=en_model*)\n",
    "\n",
    "> Creates and saves the TSNE plot for the top similar words for a given word.\n",
    "\n",
    "\n",
    "> *limit* = the number of close words (default=200)\n",
    "\n",
    "> *model* = default set to regular embeddings, *model='sw'* for subword embeddings\n",
    "\n",
    "test.**word_similarity**(*word*)\n",
    "    \n",
    "> Prints the top 5 similar words for a given word for both word embedding sets\n",
    "\n",
    "test.**compare**(*wordA, wordB, comparison_word*)\n",
    "\n",
    "> Prints the similarity percentages for two words given a comparison word\n",
    "\n",
    "test.**word_analogy**(*wordA, wordB, wordC*)\n",
    "\n",
    "> Prints the result of the word analogy in the format 'A is to B as C is to D' given the first three words for the regular word embedding set\n",
    "\n",
    "test.**sw_word_analogy**(*wordA, wordB, wordC*)\n",
    "\n",
    "> Prints the result of the word analogy in the format 'A is to B as C is to D' given the first three words for the subword word embedding set"
   ]
  },
  {
   "cell_type": "code",
   "execution_count": null,
   "metadata": {},
   "outputs": [],
   "source": []
  }
 ],
 "metadata": {
  "kernelspec": {
   "display_name": "Python 3",
   "language": "python",
   "name": "python3"
  },
  "language_info": {
   "codemirror_mode": {
    "name": "ipython",
    "version": 3
   },
   "file_extension": ".py",
   "mimetype": "text/x-python",
   "name": "python",
   "nbconvert_exporter": "python",
   "pygments_lexer": "ipython3",
   "version": "3.7.7"
  }
 },
 "nbformat": 4,
 "nbformat_minor": 4
}
